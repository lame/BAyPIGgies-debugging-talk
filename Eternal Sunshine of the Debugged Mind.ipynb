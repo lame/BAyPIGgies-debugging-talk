{
 "cells": [
  {
   "cell_type": "markdown",
   "id": "a7a8284c",
   "metadata": {
    "slideshow": {
     "slide_type": "slide"
    }
   },
   "source": [
    "# Eternal Sunshine ☀️ of the Debugged Mind 🧠\n",
    "\n",
    "and other observations from somebody who refuses to use IDE debugging tools\n",
    "\n",
    "![Eternal Sunshine](Assets/eternal_sunshine.jpeg)\n",
    "\n",
    "Check out the presentation and all code on [GitHub](https://github.com/lame/BAyPIGgies-debugging-talk/)"
   ]
  },
  {
   "cell_type": "markdown",
   "id": "091fc2f0",
   "metadata": {
    "slideshow": {
     "slide_type": "slide"
    }
   },
   "source": [
    "# Table of Contents\n",
    "\n",
    "- The process of debugging\n",
    "- Tools for debugging (in python this time)\n",
    "- Configuring `breakpoint()`\n",
    "- Other tools\n",
    "- Resources"
   ]
  },
  {
   "cell_type": "markdown",
   "id": "dc3a14a7",
   "metadata": {
    "slideshow": {
     "slide_type": "slide"
    }
   },
   "source": [
    "# Thank Yous\n",
    "\n",
    "- Lots of this talk is taken from [various](https://jvns.ca/blog/2015/11/22/how-i-got-better-at-debugging/) [blog](https://jvns.ca/blog/2019/06/23/a-few-debugging-resources/) [posts](https://jvns.ca/blog/2021/09/16/debugging-in-a-repl-is-fun/) on Julia Evans' blog, www.jvns.ca. Check out the blog, it's awesome!\n",
    "- Jeff Fischer for reaching out and organizing this talk!\n",
    "- Lots of production-environment bugs at my old job for teaching me some of these techniques 💩\n"
   ]
  },
  {
   "cell_type": "markdown",
   "id": "d1920bad",
   "metadata": {
    "slideshow": {
     "slide_type": "slide"
    }
   },
   "source": [
    "# What is Debugging\n",
    "\n",
    "- The most important skill-set for a professional engineer\n",
    "- Should be a structured, repeatable process for gaining insight about things that puzzle you\n",
    "    - Start at the top and dig down rather than hunt-and-peck\n",
    "    - Domain knowledge helps, but is not required\n"
   ]
  },
  {
   "cell_type": "markdown",
   "id": "43b736cc",
   "metadata": {
    "slideshow": {
     "slide_type": "subslide"
    }
   },
   "source": [
    "## Some Strategies\n",
    "\n",
    "#### Is There Actually a Problem?\n",
    "\n",
    "- Get to know your local and enterprise logging tools\n",
    "    - txt log files, search w/ text search tools such as grep, ag\n",
    "    - Enterprise tools: DataDog, Rollbar, Sentry\n",
    "- Reproduce errors from logs locally if at all possible\n",
    "\n",
    "#### Gather Background\n",
    "\n",
    "- Do some Google'n to get a deeper understanding of the error"
   ]
  },
  {
   "cell_type": "markdown",
   "id": "fb15777d",
   "metadata": {
    "slideshow": {
     "slide_type": "subslide"
    }
   },
   "source": [
    "## Some Strategies, Contd.\n",
    "\n",
    "\n",
    "#### Isolate the Problem\n",
    "\n",
    "- Minimally reproduce the bug\n",
    "\n",
    "#### One Change at a Time!\n",
    "\n",
    "- Seriously... this WILL bite you if you change a million things!\n",
    "\n",
    "#### Test Driven Developlemt (TDD)\n",
    "\n",
    "- Write tests that expect fixed behavior\n",
    "- Tests should fail at first, when code is still in buggy state\n",
    "- Tests will pass when your code fixes the issue!\n",
    "- Profit!"
   ]
  },
  {
   "cell_type": "markdown",
   "id": "5c900190",
   "metadata": {
    "slideshow": {
     "slide_type": "slide"
    }
   },
   "source": [
    "# The Process of Debugging (A Real Life Example)\n",
    "\n",
    "### Debugging my Microwave!\n",
    "\n",
    "I know, it's not even programming...\n",
    "\n",
    "![Samsung Microwave](Assets/samsung_microwave.png)\n",
    "\n"
   ]
  },
  {
   "cell_type": "markdown",
   "id": "30b20fa2",
   "metadata": {
    "slideshow": {
     "slide_type": "subslide"
    }
   },
   "source": [
    "# Is there actually a problem\n",
    "\n",
    "- Screen is very dim\n",
    "- Screen is showing an SE/5E code\n",
    "- Microwave does not start\n",
    "\n",
    "✅ There's definitely a problem!"
   ]
  },
  {
   "cell_type": "markdown",
   "id": "06e94769",
   "metadata": {
    "slideshow": {
     "slide_type": "subslide"
    }
   },
   "source": [
    "# Gather Background\n",
    "\n",
    "- Google'd SE/5E code, seems like an issue with the keypad\n",
    "\n",
    "![Google Search](Assets/google.png)"
   ]
  },
  {
   "cell_type": "markdown",
   "id": "a695b8fe",
   "metadata": {
    "slideshow": {
     "slide_type": "subslide"
    }
   },
   "source": [
    "# Isolate the Problem\n",
    "\n",
    "![Disassembled Microwave](Assets/disassembled_microwave_small.jpg)\n",
    "\n",
    "Step 1: Get the microwave in a place where it can be inspected!"
   ]
  },
  {
   "cell_type": "markdown",
   "id": "0c312328",
   "metadata": {
    "slideshow": {
     "slide_type": "subslide"
    }
   },
   "source": [
    "### Isolate the Problem\n",
    "\n",
    "![Wires](Assets/wires.jpg)\n",
    "\n",
    "Step 2: Find the most likely source of the problem"
   ]
  },
  {
   "cell_type": "markdown",
   "id": "0c1217a6",
   "metadata": {
    "slideshow": {
     "slide_type": "subslide"
    }
   },
   "source": [
    "# Isolate the Problem\n",
    "\n",
    "![Circuit Board](Assets/circuit_board_small.jpg)\n",
    "\n",
    "Step 3: Locate the issue"
   ]
  },
  {
   "cell_type": "markdown",
   "id": "5dabafbc",
   "metadata": {
    "slideshow": {
     "slide_type": "subslide"
    }
   },
   "source": [
    "# Isolate the Problem\n",
    "\n",
    "![The new microwave](Assets/new_microwave.jpg)\n",
    "\n",
    "Step 4: The part was too expensive for a busted old microwave... so we got a NEW microwave!"
   ]
  },
  {
   "cell_type": "markdown",
   "id": "d5b52573",
   "metadata": {},
   "source": [
    "# The Point\n",
    "\n",
    "- Debugging is a structured approach to gathering information!\n",
    "- Tools can help inform where the bug is (google in this case, logs in a programming case)\n",
    "- Drilling down will save you time and headaches, don't tear down the whole thing to find one problem!\n",
    "    - You could cause more bugs than you fix that way"
   ]
  },
  {
   "cell_type": "markdown",
   "id": "bc3230e4",
   "metadata": {
    "slideshow": {
     "slide_type": "slide"
    }
   },
   "source": [
    "# Where's the Python?!\n",
    "\n",
    "![Drake, yo.](Assets/Drake.jpeg)"
   ]
  },
  {
   "cell_type": "markdown",
   "id": "71530f1e",
   "metadata": {
    "slideshow": {
     "slide_type": "subslide"
    }
   },
   "source": [
    "|Command (shorthand)|Command (name)|Description|\n",
    "|:-|:-|:-|\n",
    "|c| Continue | Exit the current REPL and continue to next breakpoint|\n",
    "|?| Inspect Docstring | Show docstring for class/function/type/etc.|\n",
    "|??|Inspect Source| Show the source-code for the class/function/type/etc.|\n",
    "|n|Next| Continue to next line. Equivalent to \"step over\" in PyCharm / VSCode parlance|\n",
    "|s|Step|\"Step into\", follow the stack down the next line|\n",
    "|l|list|Show a few lines above and below current position in code|\n",
    "|ll|list long|show more lines, will continue from the bottom of previos `l` or `ll` command|\n",
    "|w|Where|Where are you in the current call stack|\n",
    "|up|Move up in the current call stack|Moves towards the caller of a function|\n",
    "|down|Move down in the current call stack|Moves towards the function being called|\n",
    "|b {line number}|Breakpoint| Create a new breakpoint at line number {line number}|\n",
    "|q|quit|Exit the debugger|"
   ]
  },
  {
   "cell_type": "markdown",
   "id": "d642a659",
   "metadata": {
    "slideshow": {
     "slide_type": "subslide"
    }
   },
   "source": [
    "# Demo Time\n",
    "\n",
    "![Hackerman!](https://i.giphy.com/media/YQitE4YNQNahy/giphy.webp)\n"
   ]
  },
  {
   "cell_type": "markdown",
   "id": "424678a3",
   "metadata": {
    "slideshow": {
     "slide_type": "subslide"
    }
   },
   "source": [
    "# How to Change `breakpoint()` Behavior\n",
    "\n",
    "In your environment:\n",
    "\n",
    "```bash\n",
    "export PYTHONBREAKPOINT=ipdb.set_trace\n",
    "```"
   ]
  },
  {
   "cell_type": "markdown",
   "id": "3b2a1308",
   "metadata": {
    "slideshow": {
     "slide_type": "subslide"
    }
   },
   "source": [
    "# How to Exit Breakpoints\n",
    "\n",
    "If you've stuck a breakpoint in a loop and you want to exit the REPL without killing the program you can use\n",
    "\n",
    "```python\n",
    "# Depending on your debugger, use pdb/ipdb here\n",
    "ipdb.set_trace = lambda: 1\n",
    "```\n",
    "\n",
    "This will change the definition of the set_trace function and disable all breakpoints for the duration of your program's runtime."
   ]
  },
  {
   "cell_type": "markdown",
   "id": "07445345",
   "metadata": {
    "slideshow": {
     "slide_type": "slide"
    }
   },
   "source": [
    "# Other Resources\n",
    "\n",
    "- Again, [Julia Evan's blog](https://jvns.ca/juliasections/debugging/)\n",
    "- Embedded in Academia [\"How to Debug\" blog](https://blog.regehr.org/archives/199)\n",
    "- Stack Overflow\n",
    "- Pair with other Devs!\n"
   ]
  },
  {
   "cell_type": "markdown",
   "id": "25f6bdb9",
   "metadata": {
    "slideshow": {
     "slide_type": "slide"
    }
   },
   "source": [
    "# So Long! \n",
    "\n",
    "- Ryan Kuhl\n",
    "- ryan@kuhl.dev\n",
    "- [github.com/lame](https://www.github.com/lame)\n",
    "- [linkedin.com/in/kuhl](https://www.linkedin.com/in/kuhl)\n",
    "\n",
    "![Goodbye!](https://i.giphy.com/media/dRvEZLV0ORAmHT1L5u/giphy.webp)\n",
    "\n"
   ]
  }
 ],
 "metadata": {
  "celltoolbar": "Slideshow",
  "kernelspec": {
   "display_name": "baypiggies_debugging",
   "language": "python",
   "name": "baypiggies_debugging"
  },
  "language_info": {
   "codemirror_mode": {
    "name": "ipython",
    "version": 3
   },
   "file_extension": ".py",
   "mimetype": "text/x-python",
   "name": "python",
   "nbconvert_exporter": "python",
   "pygments_lexer": "ipython3",
   "version": "3.10.2"
  }
 },
 "nbformat": 4,
 "nbformat_minor": 5
}
